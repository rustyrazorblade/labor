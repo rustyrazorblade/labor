{
 "cells": [
  {
   "cell_type": "code",
   "execution_count": 48,
   "metadata": {
    "collapsed": true
   },
   "outputs": [],
   "source": [
    "import pandas\n",
    "from labor.model import path\n",
    "import ironeagle"
   ]
  },
  {
   "cell_type": "code",
   "execution_count": 49,
   "metadata": {
    "collapsed": false
   },
   "outputs": [
    {
     "name": "stdout",
     "output_type": "stream",
     "text": [
      "   area_code                                          area_name\n",
      "0       0000                                  U.S. city average\n",
      "1       0100                                    Northeast urban\n",
      "2       0200                                      Midwest urban\n",
      "3       0300                                        South urban\n",
      "4       0400                                         West urban\n",
      "5       A000                                        City size A\n",
      "6       A100                                   Northeast Size A\n",
      "7       A101  New York-Northern New Jersey-Long Island, NY-N...\n",
      "8       A102  Philadelphia-Wilmington-Atlantic City, PA-NJ-D...\n",
      "9       A103                Boston-Brockton-Nashua, MA-NH-ME-CT\n",
      "10      A104                                     Pittsburgh, PA\n",
      "11      A200                                     Midwest Size A\n",
      "12      A207                     Chicago-Gary-Kenosha, IL-IN-WI\n",
      "13      A208                        Detroit-Ann Arbor-Flint, MI\n",
      "14      A209                                   St. Louis, MO-IL\n",
      "15      A210                                Cleveland-Akron, OH\n",
      "16      A211                        Minneapolis-St. Paul, MN-WI\n",
      "17      A212                               Milwaukee-Racine, WI\n",
      "18      A213                      Cincinnati-Hamilton, OH-KY-IN\n",
      "19      A214                                 Kansas City, MO-KS\n",
      "20      A300                                       South Size A\n",
      "21      A311                  Washington-Baltimore, DC-MD-VA-WV\n",
      "22      A316                              Dallas-Fort Worth, TX\n",
      "23      A318                     Houston-Galveston-Brazoria, TX\n",
      "24      A319                                        Atlanta, GA\n",
      "25      A320                          Miami-Fort Lauderdale, FL\n",
      "26      A400                                        West Size A\n",
      "27      A421            Los Angeles-Riverside-Orange County, CA\n",
      "28      A422                 San Francisco-Oakland-San Jose, CA\n",
      "29      A423                       Seattle-Tacoma-Bremerton, WA\n",
      "30      A424                                      San Diego, CA\n",
      "31      A425                              Portland-Salem, OR-WA\n",
      "32      A426                                       Honolulu, HI\n",
      "33      A427                                      Anchorage, AK\n",
      "34      A433                         Denver-Boulder-Greeley, CO\n",
      "35      D000                                        City size D\n",
      "36      D200                                     Midwest Size D\n",
      "37      D300                                       South Size D\n",
      "38      X000                                      City size B/C\n",
      "39      X100                                 Northeast Size B/C\n",
      "40      X200                                   Midwest Size B/C\n",
      "41      X300                                     South Size B/C\n",
      "42      X400                                      West Size B/C\n"
     ]
    }
   ],
   "source": [
    "area = pandas.read_fwf(path.format(\"ap/ap.area\"), widths=[4,100], names=[\"area_code\", \"area_name\"], skiprows=2)\n",
    "print area"
   ]
  },
  {
   "cell_type": "code",
   "execution_count": 43,
   "metadata": {
    "collapsed": false
   },
   "outputs": [
    {
     "name": "stdout",
     "output_type": "stream",
     "text": [
      "(43, 2)\n"
     ]
    }
   ],
   "source": [
    "print area.shape"
   ]
  },
  {
   "cell_type": "code",
   "execution_count": 44,
   "metadata": {
    "collapsed": false
   },
   "outputs": [],
   "source": [
    "from cassandra.cluster import Cluster\n",
    "cluster = Cluster([\"127.0.0.1\"])\n",
    "session = cluster.connect(\"labor\")\n"
   ]
  },
  {
   "cell_type": "code",
   "execution_count": 45,
   "metadata": {
    "collapsed": false
   },
   "outputs": [],
   "source": [
    "session.execute(\"CREATE TABLE IF NOT EXISTS average_price_data (area_code text primary key, area_name text)\")"
   ]
  },
  {
   "cell_type": "code",
   "execution_count": 46,
   "metadata": {
    "collapsed": false
   },
   "outputs": [
    {
     "name": "stdout",
     "output_type": "stream",
     "text": [
      "0000 U.S. city average\n",
      "0100 Northeast urban\n",
      "0200 Midwest urban\n",
      "0300 South urban\n",
      "0400 West urban\n",
      "A000 City size A\n",
      "A100 Northeast Size A\n",
      "A101 New York-Northern New Jersey-Long Island, NY-NJ-CT-PA\n",
      "A102 Philadelphia-Wilmington-Atlantic City, PA-NJ-DE-MD\n",
      "A103 Boston-Brockton-Nashua, MA-NH-ME-CT\n",
      "A104 Pittsburgh, PA\n",
      "A200 Midwest Size A\n",
      "A207 Chicago-Gary-Kenosha, IL-IN-WI\n",
      "A208 Detroit-Ann Arbor-Flint, MI\n",
      "A209 St. Louis, MO-IL\n",
      "A210 Cleveland-Akron, OH\n",
      "A211 Minneapolis-St. Paul, MN-WI\n",
      "A212 Milwaukee-Racine, WI\n",
      "A213 Cincinnati-Hamilton, OH-KY-IN\n",
      "A214 Kansas City, MO-KS\n",
      "A300 South Size A\n",
      "A311 Washington-Baltimore, DC-MD-VA-WV\n",
      "A316 Dallas-Fort Worth, TX\n",
      "A318 Houston-Galveston-Brazoria, TX\n",
      "A319 Atlanta, GA\n",
      "A320 Miami-Fort Lauderdale, FL\n",
      "A400 West Size A\n",
      "A421 Los Angeles-Riverside-Orange County, CA\n",
      "A422 San Francisco-Oakland-San Jose, CA\n",
      "A423 Seattle-Tacoma-Bremerton, WA\n",
      "A424 San Diego, CA\n",
      "A425 Portland-Salem, OR-WA\n",
      "A426 Honolulu, HI\n",
      "A427 Anchorage, AK\n",
      "A433 Denver-Boulder-Greeley, CO\n",
      "D000 City size D\n",
      "D200 Midwest Size D\n",
      "D300 South Size D\n",
      "X000 City size B/C\n",
      "X100 Northeast Size B/C\n",
      "X200 Midwest Size B/C\n",
      "X300 South Size B/C\n",
      "X400 West Size B/C\n"
     ]
    }
   ],
   "source": [
    "for i, row in area.iterrows():\n",
    "    print row['area_code'], row['area_name']\n",
    "    "
   ]
  },
  {
   "cell_type": "code",
   "execution_count": null,
   "metadata": {
    "collapsed": false
   },
   "outputs": [],
   "source": []
  },
  {
   "cell_type": "code",
   "execution_count": null,
   "metadata": {
    "collapsed": true
   },
   "outputs": [],
   "source": []
  }
 ],
 "metadata": {
  "kernelspec": {
   "display_name": "Python 2",
   "language": "python",
   "name": "python2"
  },
  "language_info": {
   "codemirror_mode": {
    "name": "ipython",
    "version": 2
   },
   "file_extension": ".py",
   "mimetype": "text/x-python",
   "name": "python",
   "nbconvert_exporter": "python",
   "pygments_lexer": "ipython2",
   "version": "2.7.8"
  }
 },
 "nbformat": 4,
 "nbformat_minor": 0
}
